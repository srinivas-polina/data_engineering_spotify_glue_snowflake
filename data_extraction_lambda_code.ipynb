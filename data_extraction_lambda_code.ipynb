{
  "nbformat": 4,
  "nbformat_minor": 0,
  "metadata": {
    "colab": {
      "provenance": []
    },
    "kernelspec": {
      "name": "python3",
      "display_name": "Python 3"
    },
    "language_info": {
      "name": "python"
    }
  },
  "cells": [
    {
      "cell_type": "code",
      "execution_count": null,
      "metadata": {
        "id": "0w2I7lwwDwlr"
      },
      "outputs": [],
      "source": [
        "import json\n",
        "import os\n",
        "import spotipy\n",
        "from spotipy.oauth2 import SpotifyClientCredentials\n",
        "import boto3\n",
        "#boto3 is a package created by aws,programatically communicate with aws services\n",
        "#lambda doesn't support all of the functions that we equired, we need to use lambda layer instead of 'pip install ---'\n",
        "from datetime import datetime\n",
        "def lambda_handler(event, context):\n",
        "    client_id = os.environ.get('client_id')\n",
        "    client_secret = os.environ.get('client_secret')\n",
        "    client_credentials_manager = SpotifyClientCredentials(client_id=client_id, client_secret=client_secret)\n",
        "    sp = spotipy.Spotify(client_credentials_manager = client_credentials_manager)\n",
        "    playlists = sp.user_playlists('spotify')\n",
        "    playlist_link = \"https://open.spotify.com/playlist/37i9dQZF1DWTt3gMo0DLxA\"\n",
        "    playlist_URI = playlist_link.split(\"/\")[-1]\n",
        "    data = sp.playlist_tracks(playlist_URI)\n",
        "    print(data)\n",
        "\n",
        "    client = boto3.client('s3')\n",
        "    filename = \"spotify_raw_\" + str(datetime.now()) + \".json\"\n",
        "    client.put_object(\n",
        "        Bucket =\"spotify-etl-project-srinivas\",\n",
        "        Key = \"raw_data/toprocessed/\" + filename,\n",
        "        Body = json.dumps(data)\n",
        "    )\n",
        "\n",
        "\n",
        "    glue= boto3.client(\"glue\")\n",
        "    gluejobname = \"spotify_transformation_job1\"\n",
        "\n",
        "    try:\n",
        "        runId = glue.start_job_run(JobName=gluejobname)\n",
        "        status= glue.get_job_run(JobName = gluejobname, RunId = runId['JobRunId'])\n",
        "        print(\"Job Status : \",status['JobRun']['JobRunState'])\n",
        "    except Exception as e:\n",
        "        print(e)\n",
        "\n",
        "\n",
        "\n"
      ]
    }
  ]
}